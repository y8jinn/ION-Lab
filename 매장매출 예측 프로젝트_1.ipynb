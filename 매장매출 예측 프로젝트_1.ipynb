{
 "cells": [
  {
   "cell_type": "code",
   "execution_count": 3,
   "id": "58340678",
   "metadata": {},
   "outputs": [],
   "source": [
    "import numpy as np # linear algebra\n",
    "import pandas as pd \n",
    "import matplotlib.pyplot as plt\n",
    "from tensorflow import keras\n",
    "import seaborn as sns\n",
    "\n",
    "# Input data files are available in the read-only \"../input/\" directory\n",
    "# For example, running this (by clicking run or pressing Shift+Enter) will list all files under the input directory\n",
    "\n",
    "import os\n",
    "for dirname, _, filenames in os.walk('/kaggle/input'):\n",
    "    for filename in filenames:\n",
    "        print(os.path.join(dirname, filename))"
   ]
  },
  {
   "cell_type": "code",
   "execution_count": 4,
   "id": "8735e49c",
   "metadata": {},
   "outputs": [
    {
     "data": {
      "text/html": [
       "<div>\n",
       "<style scoped>\n",
       "    .dataframe tbody tr th:only-of-type {\n",
       "        vertical-align: middle;\n",
       "    }\n",
       "\n",
       "    .dataframe tbody tr th {\n",
       "        vertical-align: top;\n",
       "    }\n",
       "\n",
       "    .dataframe thead th {\n",
       "        text-align: right;\n",
       "    }\n",
       "</style>\n",
       "<table border=\"1\" class=\"dataframe\">\n",
       "  <thead>\n",
       "    <tr style=\"text-align: right;\">\n",
       "      <th></th>\n",
       "      <th>date</th>\n",
       "      <th>date_block_num</th>\n",
       "      <th>shop_id</th>\n",
       "      <th>item_id</th>\n",
       "      <th>item_price</th>\n",
       "      <th>item_cnt_day</th>\n",
       "    </tr>\n",
       "  </thead>\n",
       "  <tbody>\n",
       "    <tr>\n",
       "      <th>0</th>\n",
       "      <td>02.01.2013</td>\n",
       "      <td>0</td>\n",
       "      <td>59</td>\n",
       "      <td>22154</td>\n",
       "      <td>999.00</td>\n",
       "      <td>1.0</td>\n",
       "    </tr>\n",
       "    <tr>\n",
       "      <th>1</th>\n",
       "      <td>03.01.2013</td>\n",
       "      <td>0</td>\n",
       "      <td>25</td>\n",
       "      <td>2552</td>\n",
       "      <td>899.00</td>\n",
       "      <td>1.0</td>\n",
       "    </tr>\n",
       "    <tr>\n",
       "      <th>2</th>\n",
       "      <td>05.01.2013</td>\n",
       "      <td>0</td>\n",
       "      <td>25</td>\n",
       "      <td>2552</td>\n",
       "      <td>899.00</td>\n",
       "      <td>-1.0</td>\n",
       "    </tr>\n",
       "    <tr>\n",
       "      <th>3</th>\n",
       "      <td>06.01.2013</td>\n",
       "      <td>0</td>\n",
       "      <td>25</td>\n",
       "      <td>2554</td>\n",
       "      <td>1709.05</td>\n",
       "      <td>1.0</td>\n",
       "    </tr>\n",
       "    <tr>\n",
       "      <th>4</th>\n",
       "      <td>15.01.2013</td>\n",
       "      <td>0</td>\n",
       "      <td>25</td>\n",
       "      <td>2555</td>\n",
       "      <td>1099.00</td>\n",
       "      <td>1.0</td>\n",
       "    </tr>\n",
       "    <tr>\n",
       "      <th>...</th>\n",
       "      <td>...</td>\n",
       "      <td>...</td>\n",
       "      <td>...</td>\n",
       "      <td>...</td>\n",
       "      <td>...</td>\n",
       "      <td>...</td>\n",
       "    </tr>\n",
       "    <tr>\n",
       "      <th>2935844</th>\n",
       "      <td>10.10.2015</td>\n",
       "      <td>33</td>\n",
       "      <td>25</td>\n",
       "      <td>7409</td>\n",
       "      <td>299.00</td>\n",
       "      <td>1.0</td>\n",
       "    </tr>\n",
       "    <tr>\n",
       "      <th>2935845</th>\n",
       "      <td>09.10.2015</td>\n",
       "      <td>33</td>\n",
       "      <td>25</td>\n",
       "      <td>7460</td>\n",
       "      <td>299.00</td>\n",
       "      <td>1.0</td>\n",
       "    </tr>\n",
       "    <tr>\n",
       "      <th>2935846</th>\n",
       "      <td>14.10.2015</td>\n",
       "      <td>33</td>\n",
       "      <td>25</td>\n",
       "      <td>7459</td>\n",
       "      <td>349.00</td>\n",
       "      <td>1.0</td>\n",
       "    </tr>\n",
       "    <tr>\n",
       "      <th>2935847</th>\n",
       "      <td>22.10.2015</td>\n",
       "      <td>33</td>\n",
       "      <td>25</td>\n",
       "      <td>7440</td>\n",
       "      <td>299.00</td>\n",
       "      <td>1.0</td>\n",
       "    </tr>\n",
       "    <tr>\n",
       "      <th>2935848</th>\n",
       "      <td>03.10.2015</td>\n",
       "      <td>33</td>\n",
       "      <td>25</td>\n",
       "      <td>7460</td>\n",
       "      <td>299.00</td>\n",
       "      <td>1.0</td>\n",
       "    </tr>\n",
       "  </tbody>\n",
       "</table>\n",
       "<p>2935849 rows × 6 columns</p>\n",
       "</div>"
      ],
      "text/plain": [
       "               date  date_block_num  shop_id  item_id  item_price  \\\n",
       "0        02.01.2013               0       59    22154      999.00   \n",
       "1        03.01.2013               0       25     2552      899.00   \n",
       "2        05.01.2013               0       25     2552      899.00   \n",
       "3        06.01.2013               0       25     2554     1709.05   \n",
       "4        15.01.2013               0       25     2555     1099.00   \n",
       "...             ...             ...      ...      ...         ...   \n",
       "2935844  10.10.2015              33       25     7409      299.00   \n",
       "2935845  09.10.2015              33       25     7460      299.00   \n",
       "2935846  14.10.2015              33       25     7459      349.00   \n",
       "2935847  22.10.2015              33       25     7440      299.00   \n",
       "2935848  03.10.2015              33       25     7460      299.00   \n",
       "\n",
       "         item_cnt_day  \n",
       "0                 1.0  \n",
       "1                 1.0  \n",
       "2                -1.0  \n",
       "3                 1.0  \n",
       "4                 1.0  \n",
       "...               ...  \n",
       "2935844           1.0  \n",
       "2935845           1.0  \n",
       "2935846           1.0  \n",
       "2935847           1.0  \n",
       "2935848           1.0  \n",
       "\n",
       "[2935849 rows x 6 columns]"
      ]
     },
     "execution_count": 4,
     "metadata": {},
     "output_type": "execute_result"
    }
   ],
   "source": [
    "train_data = pd.read_csv('./competitive-data-science-predict-future-sales/sales_train.csv'); # 2013년 1월부터 2015년 10월까지 \n",
    "test_data  = pd.read_csv('./competitive-data-science-predict-future-sales/test.csv'); # 2015년 11월의 shop과 product의 판매량을 예측하고 싶은것\n",
    "submission = pd.read_csv('./competitive-data-science-predict-future-sales/sample_submission.csv'); # 이런형식으로 제출\n",
    "items      = pd.read_csv('./competitive-data-science-predict-future-sales/items.csv'); # item과 product의 보충정보들\n",
    "item_categories  = pd.read_csv('./competitive-data-science-predict-future-sales/item_categories.csv');\n",
    "shops      = pd.read_csv('./competitive-data-science-predict-future-sales/shops.csv');\n",
    "#item_cnt_day = 팔린 제품의 수/판매된 제품 수 월별 금액. 이걸로 매달 판매량 예측할 것.\n",
    "#date_block_num = 편의를 위해 연속된 월번호 / 2013년 1월은 0, 2013년 2월은 2 ~ 2015년 10월을 33\n",
    "train_data"
   ]
  },
  {
   "cell_type": "code",
   "execution_count": 5,
   "id": "e590144d",
   "metadata": {},
   "outputs": [
    {
     "data": {
      "text/plain": [
       "date              0\n",
       "date_block_num    0\n",
       "shop_id           0\n",
       "item_id           0\n",
       "item_price        0\n",
       "item_cnt_day      0\n",
       "dtype: int64"
      ]
     },
     "execution_count": 5,
     "metadata": {},
     "output_type": "execute_result"
    }
   ],
   "source": [
    "train_data.isnull().sum() \n",
    "# 결측치 없음"
   ]
  },
  {
   "cell_type": "code",
   "execution_count": 6,
   "id": "7aad3da9",
   "metadata": {},
   "outputs": [
    {
     "data": {
      "text/plain": [
       "(6, 0)"
      ]
     },
     "execution_count": 6,
     "metadata": {},
     "output_type": "execute_result"
    }
   ],
   "source": [
    "sum(train_data.duplicated()), sum(test_data.duplicated())"
   ]
  },
  {
   "cell_type": "code",
   "execution_count": 7,
   "id": "5b994632",
   "metadata": {},
   "outputs": [
    {
     "data": {
      "text/plain": [
       "(0, 0, 0)"
      ]
     },
     "execution_count": 7,
     "metadata": {},
     "output_type": "execute_result"
    }
   ],
   "source": [
    "sum(items.duplicated()), sum(item_categories.duplicated()), sum(shops.duplicated())"
   ]
  },
  {
   "cell_type": "code",
   "execution_count": 8,
   "id": "8e09e496",
   "metadata": {},
   "outputs": [
    {
     "data": {
      "text/html": [
       "<div>\n",
       "<style scoped>\n",
       "    .dataframe tbody tr th:only-of-type {\n",
       "        vertical-align: middle;\n",
       "    }\n",
       "\n",
       "    .dataframe tbody tr th {\n",
       "        vertical-align: top;\n",
       "    }\n",
       "\n",
       "    .dataframe thead th {\n",
       "        text-align: right;\n",
       "    }\n",
       "</style>\n",
       "<table border=\"1\" class=\"dataframe\">\n",
       "  <thead>\n",
       "    <tr style=\"text-align: right;\">\n",
       "      <th></th>\n",
       "      <th>date</th>\n",
       "      <th>date_block_num</th>\n",
       "      <th>shop_id</th>\n",
       "      <th>item_id</th>\n",
       "      <th>item_price</th>\n",
       "      <th>item_cnt_day</th>\n",
       "    </tr>\n",
       "  </thead>\n",
       "  <tbody>\n",
       "    <tr>\n",
       "      <th>76962</th>\n",
       "      <td>05.01.2013</td>\n",
       "      <td>0</td>\n",
       "      <td>54</td>\n",
       "      <td>20130</td>\n",
       "      <td>149.0</td>\n",
       "      <td>1.0</td>\n",
       "    </tr>\n",
       "    <tr>\n",
       "      <th>1435367</th>\n",
       "      <td>23.02.2014</td>\n",
       "      <td>13</td>\n",
       "      <td>50</td>\n",
       "      <td>3423</td>\n",
       "      <td>999.0</td>\n",
       "      <td>1.0</td>\n",
       "    </tr>\n",
       "    <tr>\n",
       "      <th>1496766</th>\n",
       "      <td>23.03.2014</td>\n",
       "      <td>14</td>\n",
       "      <td>21</td>\n",
       "      <td>3423</td>\n",
       "      <td>999.0</td>\n",
       "      <td>1.0</td>\n",
       "    </tr>\n",
       "    <tr>\n",
       "      <th>1671873</th>\n",
       "      <td>01.05.2014</td>\n",
       "      <td>16</td>\n",
       "      <td>50</td>\n",
       "      <td>3423</td>\n",
       "      <td>999.0</td>\n",
       "      <td>1.0</td>\n",
       "    </tr>\n",
       "    <tr>\n",
       "      <th>1866340</th>\n",
       "      <td>12.07.2014</td>\n",
       "      <td>18</td>\n",
       "      <td>25</td>\n",
       "      <td>3423</td>\n",
       "      <td>999.0</td>\n",
       "      <td>1.0</td>\n",
       "    </tr>\n",
       "    <tr>\n",
       "      <th>2198566</th>\n",
       "      <td>31.12.2014</td>\n",
       "      <td>23</td>\n",
       "      <td>42</td>\n",
       "      <td>21619</td>\n",
       "      <td>499.0</td>\n",
       "      <td>1.0</td>\n",
       "    </tr>\n",
       "  </tbody>\n",
       "</table>\n",
       "</div>"
      ],
      "text/plain": [
       "               date  date_block_num  shop_id  item_id  item_price  \\\n",
       "76962    05.01.2013               0       54    20130       149.0   \n",
       "1435367  23.02.2014              13       50     3423       999.0   \n",
       "1496766  23.03.2014              14       21     3423       999.0   \n",
       "1671873  01.05.2014              16       50     3423       999.0   \n",
       "1866340  12.07.2014              18       25     3423       999.0   \n",
       "2198566  31.12.2014              23       42    21619       499.0   \n",
       "\n",
       "         item_cnt_day  \n",
       "76962             1.0  \n",
       "1435367           1.0  \n",
       "1496766           1.0  \n",
       "1671873           1.0  \n",
       "1866340           1.0  \n",
       "2198566           1.0  "
      ]
     },
     "execution_count": 8,
     "metadata": {},
     "output_type": "execute_result"
    }
   ],
   "source": [
    "train_data[train_data.duplicated() == True]"
   ]
  },
  {
   "cell_type": "code",
   "execution_count": 9,
   "id": "7f054d1f",
   "metadata": {},
   "outputs": [],
   "source": [
    "# train data에 중복 행이 6개 있으므로 제거해줌. 여기서 중복 제거 안하고 넘어가게 되면 나중에 merge할 때 문제 발생\n",
    "train_data.drop_duplicates(inplace=True)"
   ]
  },
  {
   "cell_type": "markdown",
   "id": "2f0479f1",
   "metadata": {},
   "source": [
    "# 이상치 제거"
   ]
  },
  {
   "cell_type": "code",
   "execution_count": 10,
   "id": "61f996e3",
   "metadata": {},
   "outputs": [
    {
     "data": {
      "text/plain": [
       "<AxesSubplot:xlabel='item_price'>"
      ]
     },
     "execution_count": 10,
     "metadata": {},
     "output_type": "execute_result"
    },
    {
     "data": {
      "image/png": "[encoded data removed]",
      "text/plain": [
       "<Figure size 720x288 with 1 Axes>"
      ]
     },
     "metadata": {
      "needs_background": "light"
     },
     "output_type": "display_data"
    }
   ],
   "source": [
    "plt.figure(figsize = (10,4))\n",
    "sns.boxplot(x=train_data.item_price)"
   ]
  },
  {
   "cell_type": "code",
   "execution_count": 11,
   "id": "87303b4e",
   "metadata": {},
   "outputs": [
    {
     "data": {
      "text/plain": [
       "<AxesSubplot:xlabel='item_cnt_day'>"
      ]
     },
     "execution_count": 11,
     "metadata": {},
     "output_type": "execute_result"
    },
    {
     "data": {
      "image/png": "[encoded data removed]",
      "text/plain": [
       "<Figure size 720x288 with 1 Axes>"
      ]
     },
     "metadata": {
      "needs_background": "light"
     },
     "output_type": "display_data"
    }
   ],
   "source": [
    "plt.figure(figsize=(10,4))\n",
    "sns.boxplot(x=train_data.item_cnt_day)"
   ]
  },
  {
   "cell_type": "code",
   "execution_count": 12,
   "id": "c16e3d81",
   "metadata": {},
   "outputs": [],
   "source": [
    "train_data = train_data[train_data.item_price<100000]\n",
    "train_data = train_data[train_data.item_cnt_day<1001]"
   ]
  },
  {
   "cell_type": "code",
   "execution_count": 13,
   "id": "bff28f87",
   "metadata": {},
   "outputs": [],
   "source": [
    "train_data = train_data[train_data.item_price >= 0]\n",
    "train_data = train_data[train_data.item_cnt_day >= 0]"
   ]
  },
  {
   "cell_type": "markdown",
   "id": "2cdf1e55",
   "metadata": {},
   "source": [
    "train 데이터의 item_price, item_cnt_dat 박스플롯 확인결과 이상치가 존재하므로 제거해주기로 한다. \n",
    "또한 두 피처에 대해서 0보다 작은 데이터가 있으므로 제거해주기로 한다."
   ]
  },
  {
   "cell_type": "code",
   "execution_count": 14,
   "id": "7afb25a8",
   "metadata": {},
   "outputs": [
    {
     "data": {
      "image/png": "[encoded data removed]",
      "text/plain": [
       "<Figure size 648x504 with 4 Axes>"
      ]
     },
     "metadata": {
      "needs_background": "light"
     },
     "output_type": "display_data"
    }
   ],
   "source": [
    "train_data[['shop_id','item_id','item_price','item_cnt_day']].hist(bins=150,figsize=(9,7),grid=False);"
   ]
  },
  {
   "cell_type": "code",
   "execution_count": 15,
   "id": "73b46b78",
   "metadata": {},
   "outputs": [
    {
     "data": {
      "text/html": [
       "<div>\n",
       "<style scoped>\n",
       "    .dataframe tbody tr th:only-of-type {\n",
       "        vertical-align: middle;\n",
       "    }\n",
       "\n",
       "    .dataframe tbody tr th {\n",
       "        vertical-align: top;\n",
       "    }\n",
       "\n",
       "    .dataframe thead th {\n",
       "        text-align: right;\n",
       "    }\n",
       "</style>\n",
       "<table border=\"1\" class=\"dataframe\">\n",
       "  <thead>\n",
       "    <tr style=\"text-align: right;\">\n",
       "      <th></th>\n",
       "      <th>date</th>\n",
       "      <th>date_block_num</th>\n",
       "      <th>shop_id</th>\n",
       "      <th>item_id</th>\n",
       "      <th>item_price</th>\n",
       "      <th>item_cnt_day</th>\n",
       "    </tr>\n",
       "  </thead>\n",
       "  <tbody>\n",
       "    <tr>\n",
       "      <th>0</th>\n",
       "      <td>02.01.2013</td>\n",
       "      <td>0</td>\n",
       "      <td>59</td>\n",
       "      <td>22154</td>\n",
       "      <td>999.00</td>\n",
       "      <td>1.0</td>\n",
       "    </tr>\n",
       "    <tr>\n",
       "      <th>1</th>\n",
       "      <td>03.01.2013</td>\n",
       "      <td>0</td>\n",
       "      <td>25</td>\n",
       "      <td>2552</td>\n",
       "      <td>899.00</td>\n",
       "      <td>1.0</td>\n",
       "    </tr>\n",
       "    <tr>\n",
       "      <th>3</th>\n",
       "      <td>06.01.2013</td>\n",
       "      <td>0</td>\n",
       "      <td>25</td>\n",
       "      <td>2554</td>\n",
       "      <td>1709.05</td>\n",
       "      <td>1.0</td>\n",
       "    </tr>\n",
       "    <tr>\n",
       "      <th>4</th>\n",
       "      <td>15.01.2013</td>\n",
       "      <td>0</td>\n",
       "      <td>25</td>\n",
       "      <td>2555</td>\n",
       "      <td>1099.00</td>\n",
       "      <td>1.0</td>\n",
       "    </tr>\n",
       "    <tr>\n",
       "      <th>5</th>\n",
       "      <td>10.01.2013</td>\n",
       "      <td>0</td>\n",
       "      <td>25</td>\n",
       "      <td>2564</td>\n",
       "      <td>349.00</td>\n",
       "      <td>1.0</td>\n",
       "    </tr>\n",
       "    <tr>\n",
       "      <th>...</th>\n",
       "      <td>...</td>\n",
       "      <td>...</td>\n",
       "      <td>...</td>\n",
       "      <td>...</td>\n",
       "      <td>...</td>\n",
       "      <td>...</td>\n",
       "    </tr>\n",
       "    <tr>\n",
       "      <th>2935844</th>\n",
       "      <td>10.10.2015</td>\n",
       "      <td>33</td>\n",
       "      <td>25</td>\n",
       "      <td>7409</td>\n",
       "      <td>299.00</td>\n",
       "      <td>1.0</td>\n",
       "    </tr>\n",
       "    <tr>\n",
       "      <th>2935845</th>\n",
       "      <td>09.10.2015</td>\n",
       "      <td>33</td>\n",
       "      <td>25</td>\n",
       "      <td>7460</td>\n",
       "      <td>299.00</td>\n",
       "      <td>1.0</td>\n",
       "    </tr>\n",
       "    <tr>\n",
       "      <th>2935846</th>\n",
       "      <td>14.10.2015</td>\n",
       "      <td>33</td>\n",
       "      <td>25</td>\n",
       "      <td>7459</td>\n",
       "      <td>349.00</td>\n",
       "      <td>1.0</td>\n",
       "    </tr>\n",
       "    <tr>\n",
       "      <th>2935847</th>\n",
       "      <td>22.10.2015</td>\n",
       "      <td>33</td>\n",
       "      <td>25</td>\n",
       "      <td>7440</td>\n",
       "      <td>299.00</td>\n",
       "      <td>1.0</td>\n",
       "    </tr>\n",
       "    <tr>\n",
       "      <th>2935848</th>\n",
       "      <td>03.10.2015</td>\n",
       "      <td>33</td>\n",
       "      <td>25</td>\n",
       "      <td>7460</td>\n",
       "      <td>299.00</td>\n",
       "      <td>1.0</td>\n",
       "    </tr>\n",
       "  </tbody>\n",
       "</table>\n",
       "<p>2928484 rows × 6 columns</p>\n",
       "</div>"
      ],
      "text/plain": [
       "               date  date_block_num  shop_id  item_id  item_price  \\\n",
       "0        02.01.2013               0       59    22154      999.00   \n",
       "1        03.01.2013               0       25     2552      899.00   \n",
       "3        06.01.2013               0       25     2554     1709.05   \n",
       "4        15.01.2013               0       25     2555     1099.00   \n",
       "5        10.01.2013               0       25     2564      349.00   \n",
       "...             ...             ...      ...      ...         ...   \n",
       "2935844  10.10.2015              33       25     7409      299.00   \n",
       "2935845  09.10.2015              33       25     7460      299.00   \n",
       "2935846  14.10.2015              33       25     7459      349.00   \n",
       "2935847  22.10.2015              33       25     7440      299.00   \n",
       "2935848  03.10.2015              33       25     7460      299.00   \n",
       "\n",
       "         item_cnt_day  \n",
       "0                 1.0  \n",
       "1                 1.0  \n",
       "3                 1.0  \n",
       "4                 1.0  \n",
       "5                 1.0  \n",
       "...               ...  \n",
       "2935844           1.0  \n",
       "2935845           1.0  \n",
       "2935846           1.0  \n",
       "2935847           1.0  \n",
       "2935848           1.0  \n",
       "\n",
       "[2928484 rows x 6 columns]"
      ]
     },
     "execution_count": 15,
     "metadata": {},
     "output_type": "execute_result"
    }
   ],
   "source": [
    "# Merging dataset(Train set)\n",
    "\n",
    "dataFrame = train_data.copy()\n",
    "dataFrame"
   ]
  },
  {
   "cell_type": "code",
   "execution_count": 16,
   "id": "da5e1e3c",
   "metadata": {},
   "outputs": [
    {
     "data": {
      "text/html": [
       "<div>\n",
       "<style scoped>\n",
       "    .dataframe tbody tr th:only-of-type {\n",
       "        vertical-align: middle;\n",
       "    }\n",
       "\n",
       "    .dataframe tbody tr th {\n",
       "        vertical-align: top;\n",
       "    }\n",
       "\n",
       "    .dataframe thead th {\n",
       "        text-align: right;\n",
       "    }\n",
       "</style>\n",
       "<table border=\"1\" class=\"dataframe\">\n",
       "  <thead>\n",
       "    <tr style=\"text-align: right;\">\n",
       "      <th></th>\n",
       "      <th>item_category_name</th>\n",
       "      <th>item_category_id</th>\n",
       "      <th>item_name</th>\n",
       "      <th>item_id</th>\n",
       "      <th>date</th>\n",
       "      <th>date_block_num</th>\n",
       "      <th>shop_id</th>\n",
       "      <th>item_price</th>\n",
       "      <th>item_cnt_day</th>\n",
       "      <th>shop_name</th>\n",
       "    </tr>\n",
       "  </thead>\n",
       "  <tbody>\n",
       "    <tr>\n",
       "      <th>0</th>\n",
       "      <td>PC - Гарнитуры/Наушники</td>\n",
       "      <td>0</td>\n",
       "      <td>Наушники PHILIPS SBC HC8680</td>\n",
       "      <td>16255</td>\n",
       "      <td>28.02.2013</td>\n",
       "      <td>1</td>\n",
       "      <td>0</td>\n",
       "      <td>93.00</td>\n",
       "      <td>1.0</td>\n",
       "      <td>!Якутск Орджоникидзе, 56 фран</td>\n",
       "    </tr>\n",
       "    <tr>\n",
       "      <th>1</th>\n",
       "      <td>Аксессуары - PS2</td>\n",
       "      <td>1</td>\n",
       "      <td>Pelican. Геймпад Nerf Wireless Controller PS2 ...</td>\n",
       "      <td>5740</td>\n",
       "      <td>20.02.2013</td>\n",
       "      <td>1</td>\n",
       "      <td>0</td>\n",
       "      <td>283.00</td>\n",
       "      <td>1.0</td>\n",
       "      <td>!Якутск Орджоникидзе, 56 фран</td>\n",
       "    </tr>\n",
       "    <tr>\n",
       "      <th>2</th>\n",
       "      <td>Аксессуары - PS3</td>\n",
       "      <td>2</td>\n",
       "      <td>PS Move Controller (Контроллер движений)</td>\n",
       "      <td>5570</td>\n",
       "      <td>28.02.2013</td>\n",
       "      <td>1</td>\n",
       "      <td>0</td>\n",
       "      <td>93.00</td>\n",
       "      <td>1.0</td>\n",
       "      <td>!Якутск Орджоникидзе, 56 фран</td>\n",
       "    </tr>\n",
       "    <tr>\n",
       "      <th>3</th>\n",
       "      <td>Аксессуары - PS3</td>\n",
       "      <td>2</td>\n",
       "      <td>PS Move Motion Controller (Контроллер движений...</td>\n",
       "      <td>5572</td>\n",
       "      <td>04.01.2013</td>\n",
       "      <td>0</td>\n",
       "      <td>0</td>\n",
       "      <td>1322.00</td>\n",
       "      <td>3.0</td>\n",
       "      <td>!Якутск Орджоникидзе, 56 фран</td>\n",
       "    </tr>\n",
       "    <tr>\n",
       "      <th>4</th>\n",
       "      <td>Аксессуары - PS3</td>\n",
       "      <td>2</td>\n",
       "      <td>PS Move Motion Controller (Контроллер движений...</td>\n",
       "      <td>5572</td>\n",
       "      <td>05.01.2013</td>\n",
       "      <td>0</td>\n",
       "      <td>0</td>\n",
       "      <td>1322.00</td>\n",
       "      <td>2.0</td>\n",
       "      <td>!Якутск Орджоникидзе, 56 фран</td>\n",
       "    </tr>\n",
       "    <tr>\n",
       "      <th>...</th>\n",
       "      <td>...</td>\n",
       "      <td>...</td>\n",
       "      <td>...</td>\n",
       "      <td>...</td>\n",
       "      <td>...</td>\n",
       "      <td>...</td>\n",
       "      <td>...</td>\n",
       "      <td>...</td>\n",
       "      <td>...</td>\n",
       "      <td>...</td>\n",
       "    </tr>\n",
       "    <tr>\n",
       "      <th>2928479</th>\n",
       "      <td>Подарки - Фигурки</td>\n",
       "      <td>72</td>\n",
       "      <td>Фигурка Wolverine Marvel Classic Wolverine Hea...</td>\n",
       "      <td>20886</td>\n",
       "      <td>03.10.2014</td>\n",
       "      <td>21</td>\n",
       "      <td>20</td>\n",
       "      <td>1500.68</td>\n",
       "      <td>1.0</td>\n",
       "      <td>Москва \"Распродажа\"</td>\n",
       "    </tr>\n",
       "    <tr>\n",
       "      <th>2928480</th>\n",
       "      <td>Подарки - Фигурки</td>\n",
       "      <td>72</td>\n",
       "      <td>Фигурка Wolverine Marvel Classic Wolverine Hea...</td>\n",
       "      <td>20886</td>\n",
       "      <td>04.10.2014</td>\n",
       "      <td>21</td>\n",
       "      <td>20</td>\n",
       "      <td>1499.00</td>\n",
       "      <td>3.0</td>\n",
       "      <td>Москва \"Распродажа\"</td>\n",
       "    </tr>\n",
       "    <tr>\n",
       "      <th>2928481</th>\n",
       "      <td>Подарки - Фигурки</td>\n",
       "      <td>72</td>\n",
       "      <td>Фигурка Wolverine Marvel Classic Wolverine Hea...</td>\n",
       "      <td>20886</td>\n",
       "      <td>05.10.2014</td>\n",
       "      <td>21</td>\n",
       "      <td>20</td>\n",
       "      <td>1499.00</td>\n",
       "      <td>6.0</td>\n",
       "      <td>Москва \"Распродажа\"</td>\n",
       "    </tr>\n",
       "    <tr>\n",
       "      <th>2928482</th>\n",
       "      <td>Элементы питания</td>\n",
       "      <td>83</td>\n",
       "      <td>Элемент питания DURACELL LR06-BC2</td>\n",
       "      <td>22088</td>\n",
       "      <td>01.10.2015</td>\n",
       "      <td>33</td>\n",
       "      <td>20</td>\n",
       "      <td>119.00</td>\n",
       "      <td>1.0</td>\n",
       "      <td>Москва \"Распродажа\"</td>\n",
       "    </tr>\n",
       "    <tr>\n",
       "      <th>2928483</th>\n",
       "      <td>Элементы питания</td>\n",
       "      <td>83</td>\n",
       "      <td>Элемент питания DURACELL LR06-BC2</td>\n",
       "      <td>22088</td>\n",
       "      <td>02.10.2015</td>\n",
       "      <td>33</td>\n",
       "      <td>20</td>\n",
       "      <td>119.00</td>\n",
       "      <td>2.0</td>\n",
       "      <td>Москва \"Распродажа\"</td>\n",
       "    </tr>\n",
       "  </tbody>\n",
       "</table>\n",
       "<p>2928484 rows × 10 columns</p>\n",
       "</div>"
      ],
      "text/plain": [
       "              item_category_name  item_category_id  \\\n",
       "0        PC - Гарнитуры/Наушники                 0   \n",
       "1               Аксессуары - PS2                 1   \n",
       "2               Аксессуары - PS3                 2   \n",
       "3               Аксессуары - PS3                 2   \n",
       "4               Аксессуары - PS3                 2   \n",
       "...                          ...               ...   \n",
       "2928479        Подарки - Фигурки                72   \n",
       "2928480        Подарки - Фигурки                72   \n",
       "2928481        Подарки - Фигурки                72   \n",
       "2928482         Элементы питания                83   \n",
       "2928483         Элементы питания                83   \n",
       "\n",
       "                                                 item_name  item_id  \\\n",
       "0                              Наушники PHILIPS SBC HC8680    16255   \n",
       "1        Pelican. Геймпад Nerf Wireless Controller PS2 ...     5740   \n",
       "2                 PS Move Controller (Контроллер движений)     5570   \n",
       "3        PS Move Motion Controller (Контроллер движений...     5572   \n",
       "4        PS Move Motion Controller (Контроллер движений...     5572   \n",
       "...                                                    ...      ...   \n",
       "2928479  Фигурка Wolverine Marvel Classic Wolverine Hea...    20886   \n",
       "2928480  Фигурка Wolverine Marvel Classic Wolverine Hea...    20886   \n",
       "2928481  Фигурка Wolverine Marvel Classic Wolverine Hea...    20886   \n",
       "2928482                  Элемент питания DURACELL LR06-BC2    22088   \n",
       "2928483                  Элемент питания DURACELL LR06-BC2    22088   \n",
       "\n",
       "               date  date_block_num  shop_id  item_price  item_cnt_day  \\\n",
       "0        28.02.2013               1        0       93.00           1.0   \n",
       "1        20.02.2013               1        0      283.00           1.0   \n",
       "2        28.02.2013               1        0       93.00           1.0   \n",
       "3        04.01.2013               0        0     1322.00           3.0   \n",
       "4        05.01.2013               0        0     1322.00           2.0   \n",
       "...             ...             ...      ...         ...           ...   \n",
       "2928479  03.10.2014              21       20     1500.68           1.0   \n",
       "2928480  04.10.2014              21       20     1499.00           3.0   \n",
       "2928481  05.10.2014              21       20     1499.00           6.0   \n",
       "2928482  01.10.2015              33       20      119.00           1.0   \n",
       "2928483  02.10.2015              33       20      119.00           2.0   \n",
       "\n",
       "                             shop_name  \n",
       "0        !Якутск Орджоникидзе, 56 фран  \n",
       "1        !Якутск Орджоникидзе, 56 фран  \n",
       "2        !Якутск Орджоникидзе, 56 фран  \n",
       "3        !Якутск Орджоникидзе, 56 фран  \n",
       "4        !Якутск Орджоникидзе, 56 фран  \n",
       "...                                ...  \n",
       "2928479            Москва \"Распродажа\"  \n",
       "2928480            Москва \"Распродажа\"  \n",
       "2928481            Москва \"Распродажа\"  \n",
       "2928482            Москва \"Распродажа\"  \n",
       "2928483            Москва \"Распродажа\"  \n",
       "\n",
       "[2928484 rows x 10 columns]"
      ]
     },
     "execution_count": 16,
     "metadata": {},
     "output_type": "execute_result"
    }
   ],
   "source": [
    "dataFrame=pd.merge(item_categories,items ,how='inner',on='item_category_id')\n",
    "dataFrame=pd.merge(dataFrame,train_data,how='inner',on='item_id')\n",
    "dataFrame=pd.merge(dataFrame,shops,how='inner',on='shop_id')\n",
    "\n",
    "# dataFrame에 있는 것들중 각각 train_data랑 shops에 있는거랑 겹치는거 merge\n",
    "dataFrame"
   ]
  },
  {
   "cell_type": "code",
   "execution_count": 17,
   "id": "068a4322",
   "metadata": {},
   "outputs": [
    {
     "data": {
      "text/plain": [
       "<AxesSubplot:>"
      ]
     },
     "execution_count": 17,
     "metadata": {},
     "output_type": "execute_result"
    },
    {
     "data": {
      "image/png": "[encoded data removed]",
      "text/plain": [
       "<Figure size 1440x576 with 1 Axes>"
      ]
     },
     "metadata": {
      "needs_background": "light"
     },
     "output_type": "display_data"
    }
   ],
   "source": [
    "# value_counts()는 어떤 컬럼/Series의 unique value들을 count해주는 함수 -> 각각의 종류 count\n",
    "dataFrame['item_category_id'].value_counts().plot(kind='bar',color='pink', figsize=(20,8))"
   ]
  },
  {
   "cell_type": "code",
   "execution_count": 16,
   "id": "bf960134",
   "metadata": {},
   "outputs": [
    {
     "data": {
      "text/plain": [
       "<AxesSubplot:ylabel='Frequency'>"
      ]
     },
     "execution_count": 16,
     "metadata": {},
     "output_type": "execute_result"
    },
    {
     "data": {
      "image/png": "[encoded data removed]",
      "text/plain": [
       "<Figure size 720x576 with 1 Axes>"
      ]
     },
     "metadata": {
      "needs_background": "light"
     },
     "output_type": "display_data"
    }
   ],
   "source": [
    "dataFrame['item_name'].value_counts().plot(kind='hist',color='red', figsize=(10,8),bins=50)"
   ]
  },
  {
   "cell_type": "code",
   "execution_count": 17,
   "id": "459317ee",
   "metadata": {},
   "outputs": [
    {
     "data": {
      "text/plain": [
       "<AxesSubplot:ylabel='Frequency'>"
      ]
     },
     "execution_count": 17,
     "metadata": {},
     "output_type": "execute_result"
    },
    {
     "data": {
      "image/png": "[encoded data removed]",
      "text/plain": [
       "<Figure size 720x576 with 1 Axes>"
      ]
     },
     "metadata": {
      "needs_background": "light"
     },
     "output_type": "display_data"
    }
   ],
   "source": [
    "dataFrame['item_id'].value_counts().plot(kind='hist', figsize=(10,8))"
   ]
  },
  {
   "cell_type": "code",
   "execution_count": 18,
   "id": "0150c6eb",
   "metadata": {},
   "outputs": [
    {
     "data": {
      "text/plain": [
       "<AxesSubplot:ylabel='Frequency'>"
      ]
     },
     "execution_count": 18,
     "metadata": {},
     "output_type": "execute_result"
    },
    {
     "data": {
      "image/png": "[encoded data removed]",
      "text/plain": [
       "<Figure size 1440x576 with 1 Axes>"
      ]
     },
     "metadata": {
      "needs_background": "light"
     },
     "output_type": "display_data"
    }
   ],
   "source": [
    "dataFrame['date'].value_counts().plot(kind='hist',color='crimson', figsize=(20,8))"
   ]
  },
  {
   "cell_type": "code",
   "execution_count": 19,
   "id": "023021b9",
   "metadata": {},
   "outputs": [
    {
     "data": {
      "text/plain": [
       "<AxesSubplot:ylabel='date_block_num'>"
      ]
     },
     "execution_count": 19,
     "metadata": {},
     "output_type": "execute_result"
    },
    {
     "data": {
      "image/png": "[encoded data removed]",
      "text/plain": [
       "<Figure size 1440x576 with 1 Axes>"
      ]
     },
     "metadata": {},
     "output_type": "display_data"
    }
   ],
   "source": [
    "dataFrame['date_block_num'].value_counts().plot(kind='pie',autopct='%1.1f%%', figsize=(20,8))"
   ]
  },
  {
   "cell_type": "code",
   "execution_count": 20,
   "id": "66b38309",
   "metadata": {},
   "outputs": [
    {
     "data": {
      "text/plain": [
       "<AxesSubplot:>"
      ]
     },
     "execution_count": 20,
     "metadata": {},
     "output_type": "execute_result"
    },
    {
     "data": {
      "image/png": "[encoded data removed]",
      "text/plain": [
       "<Figure size 1440x576 with 1 Axes>"
      ]
     },
     "metadata": {
      "needs_background": "light"
     },
     "output_type": "display_data"
    }
   ],
   "source": [
    "dataFrame['shop_id'].value_counts().plot(kind='bar',color='blue', figsize=(20,8))"
   ]
  },
  {
   "cell_type": "code",
   "execution_count": 21,
   "id": "b4b23c87",
   "metadata": {},
   "outputs": [
    {
     "data": {
      "text/plain": [
       "<AxesSubplot:ylabel='Frequency'>"
      ]
     },
     "execution_count": 21,
     "metadata": {},
     "output_type": "execute_result"
    },
    {
     "data": {
      "image/png": "[encoded data removed]",
      "text/plain": [
       "<Figure size 1440x576 with 1 Axes>"
      ]
     },
     "metadata": {
      "needs_background": "light"
     },
     "output_type": "display_data"
    }
   ],
   "source": [
    "dataFrame['item_price'].value_counts().plot(kind='hist',color='cyan', figsize=(20,8),bins=50)"
   ]
  },
  {
   "cell_type": "code",
   "execution_count": 18,
   "id": "2b08e99b",
   "metadata": {},
   "outputs": [
    {
     "data": {
      "text/html": [
       "<div>\n",
       "<style scoped>\n",
       "    .dataframe tbody tr th:only-of-type {\n",
       "        vertical-align: middle;\n",
       "    }\n",
       "\n",
       "    .dataframe tbody tr th {\n",
       "        vertical-align: top;\n",
       "    }\n",
       "\n",
       "    .dataframe thead th {\n",
       "        text-align: right;\n",
       "    }\n",
       "</style>\n",
       "<table border=\"1\" class=\"dataframe\">\n",
       "  <thead>\n",
       "    <tr style=\"text-align: right;\">\n",
       "      <th></th>\n",
       "      <th>date_block_num</th>\n",
       "      <th>shop_id</th>\n",
       "      <th>item_id</th>\n",
       "      <th>item_price</th>\n",
       "      <th>item_cnt_month</th>\n",
       "      <th>month</th>\n",
       "    </tr>\n",
       "  </thead>\n",
       "  <tbody>\n",
       "    <tr>\n",
       "      <th>0</th>\n",
       "      <td>0</td>\n",
       "      <td>0</td>\n",
       "      <td>32</td>\n",
       "      <td>221.0</td>\n",
       "      <td>6.0</td>\n",
       "      <td>1</td>\n",
       "    </tr>\n",
       "    <tr>\n",
       "      <th>1</th>\n",
       "      <td>0</td>\n",
       "      <td>37</td>\n",
       "      <td>18749</td>\n",
       "      <td>149.0</td>\n",
       "      <td>1.0</td>\n",
       "      <td>1</td>\n",
       "    </tr>\n",
       "    <tr>\n",
       "      <th>2</th>\n",
       "      <td>0</td>\n",
       "      <td>37</td>\n",
       "      <td>18753</td>\n",
       "      <td>349.0</td>\n",
       "      <td>1.0</td>\n",
       "      <td>1</td>\n",
       "    </tr>\n",
       "    <tr>\n",
       "      <th>3</th>\n",
       "      <td>0</td>\n",
       "      <td>37</td>\n",
       "      <td>18761</td>\n",
       "      <td>149.0</td>\n",
       "      <td>1.0</td>\n",
       "      <td>1</td>\n",
       "    </tr>\n",
       "    <tr>\n",
       "      <th>4</th>\n",
       "      <td>0</td>\n",
       "      <td>37</td>\n",
       "      <td>18766</td>\n",
       "      <td>149.0</td>\n",
       "      <td>1.0</td>\n",
       "      <td>1</td>\n",
       "    </tr>\n",
       "    <tr>\n",
       "      <th>...</th>\n",
       "      <td>...</td>\n",
       "      <td>...</td>\n",
       "      <td>...</td>\n",
       "      <td>...</td>\n",
       "      <td>...</td>\n",
       "      <td>...</td>\n",
       "    </tr>\n",
       "    <tr>\n",
       "      <th>1608220</th>\n",
       "      <td>33</td>\n",
       "      <td>24</td>\n",
       "      <td>9356</td>\n",
       "      <td>399.0</td>\n",
       "      <td>1.0</td>\n",
       "      <td>10</td>\n",
       "    </tr>\n",
       "    <tr>\n",
       "      <th>1608221</th>\n",
       "      <td>33</td>\n",
       "      <td>24</td>\n",
       "      <td>9355</td>\n",
       "      <td>349.0</td>\n",
       "      <td>3.0</td>\n",
       "      <td>10</td>\n",
       "    </tr>\n",
       "    <tr>\n",
       "      <th>1608222</th>\n",
       "      <td>33</td>\n",
       "      <td>24</td>\n",
       "      <td>9337</td>\n",
       "      <td>899.0</td>\n",
       "      <td>1.0</td>\n",
       "      <td>10</td>\n",
       "    </tr>\n",
       "    <tr>\n",
       "      <th>1608223</th>\n",
       "      <td>33</td>\n",
       "      <td>24</td>\n",
       "      <td>8738</td>\n",
       "      <td>749.0</td>\n",
       "      <td>2.0</td>\n",
       "      <td>10</td>\n",
       "    </tr>\n",
       "    <tr>\n",
       "      <th>1608224</th>\n",
       "      <td>33</td>\n",
       "      <td>59</td>\n",
       "      <td>22102</td>\n",
       "      <td>1250.0</td>\n",
       "      <td>1.0</td>\n",
       "      <td>10</td>\n",
       "    </tr>\n",
       "  </tbody>\n",
       "</table>\n",
       "<p>1608225 rows × 6 columns</p>\n",
       "</div>"
      ],
      "text/plain": [
       "         date_block_num  shop_id  item_id  item_price  item_cnt_month  month\n",
       "0                     0        0       32       221.0             6.0      1\n",
       "1                     0       37    18749       149.0             1.0      1\n",
       "2                     0       37    18753       349.0             1.0      1\n",
       "3                     0       37    18761       149.0             1.0      1\n",
       "4                     0       37    18766       149.0             1.0      1\n",
       "...                 ...      ...      ...         ...             ...    ...\n",
       "1608220              33       24     9356       399.0             1.0     10\n",
       "1608221              33       24     9355       349.0             3.0     10\n",
       "1608222              33       24     9337       899.0             1.0     10\n",
       "1608223              33       24     8738       749.0             2.0     10\n",
       "1608224              33       59    22102      1250.0             1.0     10\n",
       "\n",
       "[1608225 rows x 6 columns]"
      ]
     },
     "execution_count": 18,
     "metadata": {},
     "output_type": "execute_result"
    }
   ],
   "source": [
    "# data set 분석\n",
    "dataFrame[\"date\"] = pd.to_datetime(dataFrame[\"date\"],format='%d.%m.%Y');\n",
    "dataFrame[\"month\"] = dataFrame[\"date\"].dt.month;\n",
    "dataFrame = dataFrame[[\"month\", \"date_block_num\", \"shop_id\", \"item_id\", \"item_price\", \"item_cnt_day\"]].groupby(\n",
    "    [\"date_block_num\", \"shop_id\", \"item_id\"]).agg(\n",
    "    {\"item_price\": \"mean\",\"item_cnt_day\": \"sum\", \"month\": \"min\"}).reset_index();\n",
    "dataFrame.rename(columns={\"item_cnt_day\": \"item_cnt_month\"}, inplace=True);\n",
    "\n",
    "\n",
    "\n",
    "\n",
    "dataFrame = dataFrame.sort_values(by=['date_block_num'], ascending=True).reset_index(drop=True);\n",
    "dataFrame"
   ]
  },
  {
   "cell_type": "code",
   "execution_count": 19,
   "id": "278bbdc6",
   "metadata": {},
   "outputs": [
    {
     "data": {
      "text/html": [
       "<div>\n",
       "<style scoped>\n",
       "    .dataframe tbody tr th:only-of-type {\n",
       "        vertical-align: middle;\n",
       "    }\n",
       "\n",
       "    .dataframe tbody tr th {\n",
       "        vertical-align: top;\n",
       "    }\n",
       "\n",
       "    .dataframe thead th {\n",
       "        text-align: right;\n",
       "    }\n",
       "</style>\n",
       "<table border=\"1\" class=\"dataframe\">\n",
       "  <thead>\n",
       "    <tr style=\"text-align: right;\">\n",
       "      <th></th>\n",
       "      <th>date_block_num</th>\n",
       "      <th>shop_id</th>\n",
       "      <th>item_id</th>\n",
       "      <th>item_price</th>\n",
       "      <th>item_cnt_month</th>\n",
       "      <th>month</th>\n",
       "    </tr>\n",
       "  </thead>\n",
       "  <tbody>\n",
       "    <tr>\n",
       "      <th>date_block_num</th>\n",
       "      <td>1.000000</td>\n",
       "      <td>0.022380</td>\n",
       "      <td>-0.006147</td>\n",
       "      <td>0.093675</td>\n",
       "      <td>0.002262</td>\n",
       "      <td>0.242398</td>\n",
       "    </tr>\n",
       "    <tr>\n",
       "      <th>shop_id</th>\n",
       "      <td>0.022380</td>\n",
       "      <td>1.000000</td>\n",
       "      <td>0.024683</td>\n",
       "      <td>-0.023168</td>\n",
       "      <td>0.000422</td>\n",
       "      <td>0.023032</td>\n",
       "    </tr>\n",
       "    <tr>\n",
       "      <th>item_id</th>\n",
       "      <td>-0.006147</td>\n",
       "      <td>0.024683</td>\n",
       "      <td>1.000000</td>\n",
       "      <td>-0.120205</td>\n",
       "      <td>-0.011430</td>\n",
       "      <td>0.001591</td>\n",
       "    </tr>\n",
       "    <tr>\n",
       "      <th>item_price</th>\n",
       "      <td>0.093675</td>\n",
       "      <td>-0.023168</td>\n",
       "      <td>-0.120205</td>\n",
       "      <td>1.000000</td>\n",
       "      <td>0.025511</td>\n",
       "      <td>0.030531</td>\n",
       "    </tr>\n",
       "    <tr>\n",
       "      <th>item_cnt_month</th>\n",
       "      <td>0.002262</td>\n",
       "      <td>0.000422</td>\n",
       "      <td>-0.011430</td>\n",
       "      <td>0.025511</td>\n",
       "      <td>1.000000</td>\n",
       "      <td>0.017391</td>\n",
       "    </tr>\n",
       "    <tr>\n",
       "      <th>month</th>\n",
       "      <td>0.242398</td>\n",
       "      <td>0.023032</td>\n",
       "      <td>0.001591</td>\n",
       "      <td>0.030531</td>\n",
       "      <td>0.017391</td>\n",
       "      <td>1.000000</td>\n",
       "    </tr>\n",
       "  </tbody>\n",
       "</table>\n",
       "</div>"
      ],
      "text/plain": [
       "                date_block_num   shop_id   item_id  item_price  \\\n",
       "date_block_num        1.000000  0.022380 -0.006147    0.093675   \n",
       "shop_id               0.022380  1.000000  0.024683   -0.023168   \n",
       "item_id              -0.006147  0.024683  1.000000   -0.120205   \n",
       "item_price            0.093675 -0.023168 -0.120205    1.000000   \n",
       "item_cnt_month        0.002262  0.000422 -0.011430    0.025511   \n",
       "month                 0.242398  0.023032  0.001591    0.030531   \n",
       "\n",
       "                item_cnt_month     month  \n",
       "date_block_num        0.002262  0.242398  \n",
       "shop_id               0.000422  0.023032  \n",
       "item_id              -0.011430  0.001591  \n",
       "item_price            0.025511  0.030531  \n",
       "item_cnt_month        1.000000  0.017391  \n",
       "month                 0.017391  1.000000  "
      ]
     },
     "execution_count": 19,
     "metadata": {},
     "output_type": "execute_result"
    }
   ],
   "source": [
    "dataFrame.corr()\n",
    "# 상관계수는 -1과 1 사이의 값을 가지고, 0일 경우는 두 변수 간의 선형관계가 전혀 없음.\n",
    "# 상관계수의 절대값이 클수록 두 변수 간의 상관관계의 정도가 높다고 표현할 수 있음\n",
    "# 양이 상관관계일 경우에는 양수로, 음의 상관관계일 경우에는 음수로 나타남.\n",
    "# 0.3과 0.7사이면 뚜렷한 양적 선형관계, 0.7과 1.0 사이는 강한 양적 선형관계\n",
    "\n",
    "# 대부분 0.1도 안넘는걸 보아 변수 사이의 상관관계는 크게 없는것으로 보임. -> 상관분석보다는 회귀분석에 가까우니까\n",
    "# 회귀분석 -> 첫째 시점상으로 먼저 발생한 자료와 나중에 발생한 자료 사이에 선후가 분명해야하고, 둘째로 이들 사이에 서로 인과관계가 있을 경우만 회귀분석"
   ]
  },
  {
   "cell_type": "code",
   "execution_count": 24,
   "id": "44848f70",
   "metadata": {},
   "outputs": [
    {
     "data": {
      "text/plain": [
       "<AxesSubplot:>"
      ]
     },
     "execution_count": 24,
     "metadata": {},
     "output_type": "execute_result"
    },
    {
     "data": {
      "image/png": "[encoded data removed]",
      "text/plain": [
       "<Figure size 432x288 with 2 Axes>"
      ]
     },
     "metadata": {
      "needs_background": "light"
     },
     "output_type": "display_data"
    }
   ],
   "source": [
    "sns.heatmap(dataFrame.corr())"
   ]
  },
  {
   "cell_type": "code",
   "execution_count": 20,
   "id": "8afa06e5",
   "metadata": {},
   "outputs": [
    {
     "data": {
      "text/plain": [
       "item_id          -0.011430\n",
       "shop_id           0.000422\n",
       "date_block_num    0.002262\n",
       "month             0.017391\n",
       "item_price        0.025511\n",
       "item_cnt_month    1.000000\n",
       "Name: item_cnt_month, dtype: float64"
      ]
     },
     "execution_count": 20,
     "metadata": {},
     "output_type": "execute_result"
    }
   ],
   "source": [
    "dataFrame.corr()['item_cnt_month'].sort_values()\n",
    "#sort_values는 오름차순 정렬 "
   ]
  },
  {
   "cell_type": "code",
   "execution_count": 21,
   "id": "d9446e46",
   "metadata": {},
   "outputs": [
    {
     "data": {
      "text/plain": [
       "date_block_num    0\n",
       "shop_id           0\n",
       "item_id           0\n",
       "item_price        0\n",
       "item_cnt_month    0\n",
       "month             0\n",
       "dtype: int64"
      ]
     },
     "execution_count": 21,
     "metadata": {},
     "output_type": "execute_result"
    }
   ],
   "source": [
    "# 각 column별 결측치 갯수 확인\n",
    "dataFrame.isnull().sum()"
   ]
  },
  {
   "cell_type": "code",
   "execution_count": 27,
   "id": "86924282",
   "metadata": {},
   "outputs": [],
   "source": [
    "# x_train=[\"shop_id\", \"item_id\"]\n",
    "# x=dataFrame[x_train]\n",
    "# y=dataFrame[\"item_cnt_month\"]\n",
    "# print(x)\n",
    "# print(y)"
   ]
  },
  {
   "cell_type": "code",
   "execution_count": 22,
   "id": "60f0307b",
   "metadata": {},
   "outputs": [],
   "source": [
    "# train dataset\n",
    "\n",
    "from sklearn.linear_model import LinearRegression\n",
    "from sklearn.ensemble import RandomForestRegressor\n",
    "from sklearn.svm import SVR"
   ]
  },
  {
   "cell_type": "code",
   "execution_count": 23,
   "id": "14c96c97",
   "metadata": {},
   "outputs": [],
   "source": [
    "# 가게별로, 상품별로(위에서 group 묶었으니까), 매달 판매량 \n",
    "\n",
    "x_test=test_data[['shop_id','item_id']]\n",
    "\n",
    "x_train = dataFrame[[\"shop_id\", \"item_id\"]]\n",
    "y_train = dataFrame[\"item_cnt_month\"]"
   ]
  },
  {
   "cell_type": "code",
   "execution_count": 32,
   "id": "c9e194b4",
   "metadata": {},
   "outputs": [
    {
     "name": "stdout",
     "output_type": "stream",
     "text": [
      "[2.3494906  2.34509264 2.34644466 ... 2.19732428 2.13685616 2.42713734]\n",
      "(214200, 2)\n",
      "(214200,)\n"
     ]
    }
   ],
   "source": [
    "# LinearRegression\n",
    "\n",
    "model=LinearRegression()\n",
    "\n",
    "lr=model.fit(x_train,y_train)\n",
    "\n",
    "lr_predict=(model.predict(x_test))\n",
    "print(lr_predict)\n",
    "\n",
    "print(x_test.shape)\n",
    "print(lr_predict.shape)"
   ]
  },
  {
   "cell_type": "code",
   "execution_count": 33,
   "id": "60fee74b",
   "metadata": {},
   "outputs": [
    {
     "name": "stdout",
     "output_type": "stream",
     "text": [
      "[linear regression] Train rmse : 8.46896128299631\n"
     ]
    }
   ],
   "source": [
    "from sklearn.metrics import mean_squared_error\n",
    "\n",
    "print('[linear regression] Train rmse :', np.sqrt(mean_squared_error(y_train, lr.predict(x_train))))\n",
    "\n",
    "# test rmse가 있으려면.. y_test가 있어야하는데 여기서 그게 없음."
   ]
  },
  {
   "cell_type": "code",
   "execution_count": 34,
   "id": "857632c4",
   "metadata": {},
   "outputs": [
    {
     "name": "stdout",
     "output_type": "stream",
     "text": [
      "[1.46505751 6.17776637 2.00721479 ... 1.15404726 1.         1.73683333]\n"
     ]
    },
    {
     "data": {
      "text/plain": [
       "(214200,)"
      ]
     },
     "execution_count": 34,
     "metadata": {},
     "output_type": "execute_result"
    }
   ],
   "source": [
    "# RandomForestRegressor\n",
    "\n",
    "model=RandomForestRegressor()\n",
    "\n",
    "rf=model.fit(x_train,y_train)\n",
    "\n",
    "rf_predict=(model.predict(x_test))\n",
    "print(rf_predict)\n",
    "\n",
    "rf_predict.shape"
   ]
  },
  {
   "cell_type": "code",
   "execution_count": null,
   "id": "0c340a02",
   "metadata": {},
   "outputs": [],
   "source": [
    "print('[RandomForest] Train rmse :', np.sqrt(mean_squared_error(y_train, lr.predict(x_train))))"
   ]
  },
  {
   "cell_type": "code",
   "execution_count": 34,
   "id": "d9484106",
   "metadata": {},
   "outputs": [
    {
     "name": "stdout",
     "output_type": "stream",
     "text": [
      "Collecting xgboost\n",
      "  Downloading xgboost-1.7.1-py3-none-win_amd64.whl (89.1 MB)\n",
      "Requirement already satisfied: numpy in c:\\programdata\\anaconda3\\lib\\site-packages (from xgboost) (1.20.1)\n",
      "Requirement already satisfied: scipy in c:\\programdata\\anaconda3\\lib\\site-packages (from xgboost) (1.6.2)\n",
      "Installing collected packages: xgboost\n",
      "Successfully installed xgboost-1.7.1\n",
      "Note: you may need to restart the kernel to use updated packages.\n"
     ]
    }
   ],
   "source": [
    "pip install xgboost"
   ]
  },
  {
   "cell_type": "code",
   "execution_count": 35,
   "id": "70e1b5a7",
   "metadata": {
    "scrolled": true
   },
   "outputs": [
    {
     "data": {
      "text/plain": [
       "XGBRegressor(base_score=0.5, booster='gbtree', callbacks=None,\n",
       "             colsample_bylevel=1, colsample_bynode=1, colsample_bytree=1,\n",
       "             early_stopping_rounds=None, enable_categorical=False,\n",
       "             eval_metric=None, feature_types=None, gamma=0, gpu_id=-1,\n",
       "             grow_policy='depthwise', importance_type=None,\n",
       "             interaction_constraints='', learning_rate=0.1, max_bin=256,\n",
       "             max_cat_threshold=64, max_cat_to_onehot=4, max_delta_step=0,\n",
       "             max_depth=7, max_leaves=0, min_child_weight=1, missing=nan,\n",
       "             monotone_constraints='()', n_estimators=400, n_jobs=0,\n",
       "             num_parallel_tree=1, predictor='auto', random_state=0, ...)"
      ]
     },
     "execution_count": 35,
     "metadata": {},
     "output_type": "execute_result"
    }
   ],
   "source": [
    "#xgb\n",
    "\n",
    "import xgboost as xgb\n",
    "xg = xgb.XGBRegressor(base_score=0.5,\n",
    "                      n_estimators=400,\n",
    "                      min_child_weight=1,\n",
    "                     max_depth=7,\n",
    "                     learning_rate=0.1,\n",
    "                     booster='gbtree',\n",
    "                     tree_method='exact',\n",
    "                     reg_alpha=0,\n",
    "                     subsample=0.5,\n",
    "                     validate_parameters=1,\n",
    "                     colsample_bylevel=1,\n",
    "                     colsample_bynode=1,\n",
    "                     colsample_bytree=1,\n",
    "                     gamma=0)\n",
    "xg.fit(x_train,y_train)"
   ]
  },
  {
   "cell_type": "code",
   "execution_count": 38,
   "id": "a31f69f3",
   "metadata": {},
   "outputs": [],
   "source": [
    "pred = xg.predict(x_test)\n",
    "x_test['item_cnt_day'] = (pred[0]*len(x_test))/len(x_test)"
   ]
  },
  {
   "cell_type": "code",
   "execution_count": 40,
   "id": "95bb7e32",
   "metadata": {},
   "outputs": [
    {
     "data": {
      "text/plain": [
       "array([2.2348664, 3.3063557, 2.4231644, ..., 1.1881803, 1.1501147,\n",
       "       1.3139015], dtype=float32)"
      ]
     },
     "execution_count": 40,
     "metadata": {},
     "output_type": "execute_result"
    }
   ],
   "source": [
    "pred"
   ]
  }
 ],
 "metadata": {
  "kernelspec": {
   "display_name": "Python 3 (ipykernel)",
   "language": "python",
   "name": "python3"
  },
  "language_info": {
   "codemirror_mode": {
    "name": "ipython",
    "version": 3
   },
   "file_extension": ".py",
   "mimetype": "text/x-python",
   "name": "python",
   "nbconvert_exporter": "python",
   "pygments_lexer": "ipython3",
   "version": "3.11.3"
  }
 },
 "nbformat": 4,
 "nbformat_minor": 5
}
